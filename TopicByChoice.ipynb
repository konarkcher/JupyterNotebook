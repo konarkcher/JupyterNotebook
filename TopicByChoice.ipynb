{
 "cells": [
  {
   "cell_type": "markdown",
   "metadata": {},
   "source": [
    "## Вопрос по выбору\n",
    "\n",
    "# Тема: Моделирование нестационарной теплопроводности\n",
    "\n",
    "### Автор: Чернис Константин, группа 693 ФИВТ МФТИ"
   ]
  },
  {
   "cell_type": "markdown",
   "metadata": {},
   "source": [
    "## Вывод уравнения нестационарной теплопроводности\n",
    "\n",
    "TODO: написать вывод уравнения теплопроводности"
   ]
  },
  {
   "cell_type": "markdown",
   "metadata": {},
   "source": [
    "## Моделирование"
   ]
  },
  {
   "cell_type": "code",
   "execution_count": 90,
   "metadata": {
    "collapsed": true
   },
   "outputs": [],
   "source": [
    "%matplotlib inline"
   ]
  },
  {
   "cell_type": "code",
   "execution_count": 91,
   "metadata": {
    "collapsed": true
   },
   "outputs": [],
   "source": [
    "import numpy as np\n",
    "import matplotlib.pyplot as plt\n",
    "from matplotlib.ticker import MultipleLocator\n",
    "\n",
    "from matplotlib import animation\n",
    "from IPython.display import HTML"
   ]
  },
  {
   "cell_type": "code",
   "execution_count": 92,
   "metadata": {
    "collapsed": true
   },
   "outputs": [],
   "source": [
    "# Коэффициенты температуропроводности различных материалов\n",
    "WATER = 0.143 * 10**(-6)\n",
    "STEEL_304A = 4.2 * 10**(-6)\n",
    "AIR = 1.9 * 10**(-5)\n",
    "GLASS = 3.4 * 10**(-7)\n",
    "COPPER = 1.11 * 10**(-4)"
   ]
  },
  {
   "cell_type": "code",
   "execution_count": 93,
   "metadata": {
    "collapsed": true
   },
   "outputs": [],
   "source": [
    "# Условия проведения эксперимента\n",
    "INTERVAL = 5  # ms\n",
    "DISPLAY_MULT = 4\n",
    "D_TIME = INTERVAL / 1000  # sec\n",
    "\n",
    "START_TEMPERATURE = 42\n",
    "EDGE_TEMPERATURE = 0\n",
    "\n",
    "material = COPPER"
   ]
  },
  {
   "cell_type": "code",
   "execution_count": null,
   "metadata": {},
   "outputs": [],
   "source": [
    "fig = plt.figure(figsize=(7.2, 6))\n",
    "ax = plt.axes(xlim=(0, 30), ylim=(0, 50), xlabel='x, см', ylabel='T, °C')\n",
    "\n",
    "ax.xaxis.set_minor_locator(MultipleLocator(1.0))\n",
    "ax.yaxis.set_minor_locator(MultipleLocator(2.0))\n",
    "\n",
    "ax.grid(which='major', visible=True, linewidth=1.0);\n",
    "ax.grid(which='minor', visible=True, linewidth=0.5, linestyle='--')\n",
    "\n",
    "scat = ax.scatter([], [], c=[], cmap='gist_heat', lw=4)\n",
    "plt.close()"
   ]
  },
  {
   "cell_type": "code",
   "execution_count": null,
   "metadata": {},
   "outputs": [],
   "source": [
    "xdata = np.linspace(0, 30, 300)\n",
    "ydata = np.full_like(xdata, START_TEMPERATURE, dtype=np.float64)\n",
    "ydata[0] = ydata[-1] = EDGE_TEMPERATURE\n",
    "\n",
    "\n",
    "def update(y):\n",
    "    for i in range(1, len(y) - 1):\n",
    "        y[i] += ((y[i + 1] - 2 * y[i] + y[i - 1]) * 10**6 * material * D_TIME)\n",
    "\n",
    "\n",
    "def animate(j):\n",
    "    for i in range(DISPLAY_MULT):\n",
    "        update(ydata)\n",
    "    scat.set_offsets(np.hstack((xdata.reshape(-1, 1), ydata.reshape(-1, 1))))\n",
    "    scat.set_array(ydata)\n",
    "    return scat,\n",
    "\n",
    "\n",
    "anim = animation.FuncAnimation(fig, animate, interval=INTERVAL * DISPLAY_MULT,\n",
    "                               frames=1000, blit=True)\n",
    "HTML(anim.to_html5_video())"
   ]
  }
 ],
 "metadata": {
  "kernelspec": {
   "display_name": "Python 3",
   "language": "python",
   "name": "python3"
  },
  "language_info": {
   "codemirror_mode": {
    "name": "ipython",
    "version": 3
   },
   "file_extension": ".py",
   "mimetype": "text/x-python",
   "name": "python",
   "nbconvert_exporter": "python",
   "pygments_lexer": "ipython3",
   "version": "3.6.2"
  }
 },
 "nbformat": 4,
 "nbformat_minor": 2
}
